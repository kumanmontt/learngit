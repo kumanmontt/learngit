{
 "cells": [
  {
   "cell_type": "markdown",
   "metadata": {},
   "source": [
    "数据整理和清理、子集构造和过滤、转换 等快速的矢量化数组运算\n",
    "常用的数组算法、如排序、唯一化、集合运算"
   ]
  },
  {
   "cell_type": "markdown",
   "metadata": {},
   "source": [
    "1.创建ndarray"
   ]
  },
  {
   "cell_type": "code",
   "execution_count": 2,
   "metadata": {},
   "outputs": [
    {
     "name": "stdout",
     "output_type": "stream",
     "text": [
      "[6.  7.5 8.  0.  1. ]\n"
     ]
    }
   ],
   "source": [
    "import numpy as np\n",
    "data1 =[6,7.5,8,0,1]\n",
    "arr1 = np.array(data1)\n",
    "print(arr1)"
   ]
  },
  {
   "cell_type": "markdown",
   "metadata": {},
   "source": [
    "2.创建嵌套序列"
   ]
  },
  {
   "cell_type": "code",
   "execution_count": 3,
   "metadata": {},
   "outputs": [
    {
     "name": "stdout",
     "output_type": "stream",
     "text": [
      "[[1 2 3 4]\n",
      " [5 6 7 8]]\n"
     ]
    }
   ],
   "source": [
    "data2 = [[1,2,3,4],[5,6,7,8]]\n",
    "arr2 = np.array(data2)\n",
    "print(arr2)"
   ]
  },
  {
   "cell_type": "markdown",
   "metadata": {},
   "source": [
    "3.转换数据类型"
   ]
  },
  {
   "cell_type": "code",
   "execution_count": 7,
   "metadata": {},
   "outputs": [
    {
     "name": "stdout",
     "output_type": "stream",
     "text": [
      "[[1. 2. 3. 4.]\n",
      " [5. 6. 7. 8.]]\n",
      "float64\n"
     ]
    }
   ],
   "source": [
    "arr = arr2.astype(float)#法一\n",
    "arr = arr2.astype(arr1.dtype)\n",
    "print(arr)\n",
    "print(arr.dtype)"
   ]
  },
  {
   "cell_type": "markdown",
   "metadata": {},
   "source": [
    "4.索引和切片"
   ]
  },
  {
   "cell_type": "code",
   "execution_count": 20,
   "metadata": {},
   "outputs": [
    {
     "name": "stdout",
     "output_type": "stream",
     "text": [
      "arr： [0 1 2 3 4 5 6 7 8 9]\n",
      "arr[5]： 5\n",
      "arr[1:3]： [1 2]\n",
      "arr2d: [[1 2 3]\n",
      " [4 5 6]\n",
      " [7 8 9]]\n",
      "arr2d[2]： [7 8 9]\n",
      "arr2d[0][2]: 3\n",
      "arr2d[0,2]: 3\n",
      "arr2d[[0,2]]: [[1 2 3]\n",
      " [7 8 9]]\n",
      "[[1 2 3]\n",
      " [4 5 6]]\n"
     ]
    }
   ],
   "source": [
    "#一维数组\n",
    "arr = np.arange(10)\n",
    "print('arr：',arr)\n",
    "print('arr[5]：',arr[5])\n",
    "print('arr[1:3]：',arr[1:3])\n",
    "#二维数组\n",
    "arr2d = np.array([[1,2,3],[4,5,6],[7,8,9]])\n",
    "print('arr2d:',arr2d)\n",
    "print('arr2d[2]：',arr2d[2])\n",
    "print('arr2d[0][2]:',arr2d[0][2])#第二层\n",
    "print('arr2d[0,2]:',arr2d[0,2])#第二层\n",
    "print('arr2d[[0,2]]:',arr2d[[0,2]])#第一层\n",
    "print(arr2d[:2,:3])#第二层"
   ]
  },
  {
   "cell_type": "markdown",
   "metadata": {},
   "source": [
    "5.布尔型索引"
   ]
  },
  {
   "cell_type": "code",
   "execution_count": 36,
   "metadata": {},
   "outputs": [
    {
     "name": "stdout",
     "output_type": "stream",
     "text": [
      "data: [[ 0.60245091 -1.41835074 -0.10298572 -0.1955835 ]\n",
      " [ 0.79769229 -1.39987715  1.56955648 -0.92233477]\n",
      " [ 1.13174393  0.66344022 -0.83472816  1.51501509]\n",
      " [-0.26552794 -1.39580695 -0.01582561  0.41595324]\n",
      " [ 0.32794134  1.23459653 -0.32904375 -1.58237788]\n",
      " [-1.29312751  0.03840282 -1.10505036 -0.81868073]\n",
      " [ 0.0142504   0.358312   -0.03883173 -1.28022494]]\n",
      "names ==\"bob\": [ True False False  True False False False]\n",
      "data[(names==\"bob\")|(names==\"will\")]: [[ 0.60245091 -1.41835074 -0.10298572 -0.1955835 ]\n",
      " [ 1.13174393  0.66344022 -0.83472816  1.51501509]\n",
      " [-0.26552794 -1.39580695 -0.01582561  0.41595324]\n",
      " [ 0.32794134  1.23459653 -0.32904375 -1.58237788]]\n"
     ]
    }
   ],
   "source": [
    "names = np.array(['bob','joe','will','bob','will','joe','joe'])\n",
    "data = np.random.randn(7,4)\n",
    "print('data:',data)\n",
    "print('names ==\"bob\":',names =='bob')\n",
    "print('data[(names==\"bob\")|(names==\"will\")]:',data[(names=='bob')|(names=='will')])"
   ]
  },
  {
   "cell_type": "markdown",
   "metadata": {},
   "source": [
    "6.花式索引"
   ]
  },
  {
   "cell_type": "code",
   "execution_count": 3,
   "metadata": {},
   "outputs": [
    {
     "name": "stdout",
     "output_type": "stream",
     "text": [
      "[[0. 0. 0. 0.]\n",
      " [1. 1. 1. 1.]\n",
      " [2. 2. 2. 2.]\n",
      " [3. 3. 3. 3.]\n",
      " [4. 4. 4. 4.]\n",
      " [5. 5. 5. 5.]\n",
      " [6. 6. 6. 6.]\n",
      " [7. 7. 7. 7.]]\n"
     ]
    }
   ],
   "source": [
    "arr = np.empty((8,4))\n",
    "for i in range(8):\n",
    "    arr[i]=i\n",
    "print(arr)"
   ]
  },
  {
   "cell_type": "markdown",
   "metadata": {},
   "source": [
    "7.数组转置"
   ]
  },
  {
   "cell_type": "code",
   "execution_count": 6,
   "metadata": {},
   "outputs": [
    {
     "name": "stdout",
     "output_type": "stream",
     "text": [
      "[[ 0  1  2  3  4]\n",
      " [ 5  6  7  8  9]\n",
      " [10 11 12 13 14]]\n"
     ]
    },
    {
     "data": {
      "text/plain": [
       "array([[ 6.6281026 ,  1.74541712, -0.57052106],\n",
       "       [ 1.74541712,  6.74745057,  4.71662339],\n",
       "       [-0.57052106,  4.71662339,  7.56718603]])"
      ]
     },
     "execution_count": 6,
     "metadata": {},
     "output_type": "execute_result"
    }
   ],
   "source": [
    "arr = np.arange(15).reshape((3,5))\n",
    "print(arr)\n",
    "arr = np.random.randn(6,3)\n",
    "np.dot(arr.T,arr)#计算矩阵内积"
   ]
  },
  {
   "cell_type": "markdown",
   "metadata": {},
   "source": [
    "8.将条件逻辑表述为数组运算"
   ]
  },
  {
   "cell_type": "code",
   "execution_count": null,
   "metadata": {},
   "outputs": [],
   "source": [
    "result=[(x if c else y) for x,y,c in zip(xarr,yarr,cond)]#对大数组的处理速度不是很快，无法用于多维数组\n",
    "result = np.where(cond,xarr,yarr)"
   ]
  },
  {
   "cell_type": "markdown",
   "metadata": {},
   "source": [
    "9.数学和统计方法"
   ]
  },
  {
   "cell_type": "code",
   "execution_count": 7,
   "metadata": {},
   "outputs": [
    {
     "name": "stdout",
     "output_type": "stream",
     "text": [
      "[[ 1.79740311  0.54022688  1.14219595  0.05812757]\n",
      " [-0.73206899 -1.87554332 -0.50833765  0.63264911]\n",
      " [ 0.10105653 -0.04914774  0.57877726 -0.67760983]\n",
      " [ 1.19838154  0.78725996  0.86425992  1.91367041]\n",
      " [ 1.40735567  0.6781749  -0.61909171  2.10907492]]\n"
     ]
    }
   ],
   "source": [
    "arr = np.random.randn(5,4)\n",
    "print(arr)\n",
    "arr.mean(axis=1)#按行计算\n",
    "arr.sum(0)#按列计算\n",
    "arr.cumsum(0)#累加\n",
    "arr.cumprod()#累乘"
   ]
  },
  {
   "cell_type": "markdown",
   "metadata": {},
   "source": [
    "10.排序"
   ]
  },
  {
   "cell_type": "code",
   "execution_count": null,
   "metadata": {},
   "outputs": [],
   "source": [
    "arr.sort(1)#返回的是数组已排序的副本"
   ]
  },
  {
   "cell_type": "markdown",
   "metadata": {},
   "source": [
    "11.读取文本文件"
   ]
  },
  {
   "cell_type": "code",
   "execution_count": null,
   "metadata": {},
   "outputs": [],
   "source": [
    "arr = np.loadtxt('array_ex.txt',delimiter=',')"
   ]
  },
  {
   "cell_type": "markdown",
   "metadata": {},
   "source": [
    "12.随机数生成"
   ]
  },
  {
   "cell_type": "code",
   "execution_count": 8,
   "metadata": {},
   "outputs": [],
   "source": [
    "samples = np.random.normal(size=(4,4))"
   ]
  },
  {
   "cell_type": "markdown",
   "metadata": {},
   "source": [
    "13.矩阵乘法"
   ]
  },
  {
   "cell_type": "code",
   "execution_count": 4,
   "metadata": {},
   "outputs": [
    {
     "data": {
      "text/plain": [
       "array([[ 28.,  64.],\n",
       "       [ 67., 181.]])"
      ]
     },
     "execution_count": 4,
     "metadata": {},
     "output_type": "execute_result"
    }
   ],
   "source": [
    "x = np.array([[1.,2.,3.],[4.,5.,6.]])\n",
    "y = np.array([[6.,23],[-1,7],[8,9]])\n",
    "x.dot(y)"
   ]
  },
  {
   "cell_type": "code",
   "execution_count": 10,
   "metadata": {},
   "outputs": [
    {
     "name": "stdout",
     "output_type": "stream",
     "text": [
      "[[ 3.31903928  1.30508157  0.59537919 -0.53935997  2.26485051]\n",
      " [ 1.30508157  4.71039508  0.43258452  0.1271593  -1.1496551 ]\n",
      " [ 0.59537919  0.43258452  2.56217035  1.8711921  -0.47989845]\n",
      " [-0.53935997  0.1271593   1.8711921   2.48670891 -0.94108885]\n",
      " [ 2.26485051 -1.1496551  -0.47989845 -0.94108885  3.42296642]]\n"
     ]
    }
   ],
   "source": [
    "from numpy.linalg import inv,qr\n",
    "x = np.random.randn(5,5)\n",
    "mat = x.T.dot(x)\n",
    "inv(mat)#矩阵的乘法逆矩阵"
   ]
  },
  {
   "cell_type": "markdown",
   "metadata": {},
   "source": [
    "14.随机数生成"
   ]
  },
  {
   "cell_type": "code",
   "execution_count": 11,
   "metadata": {},
   "outputs": [
    {
     "name": "stdout",
     "output_type": "stream",
     "text": [
      "[[ 0.68630977 -0.77452943 -0.37140549 -0.07576385]\n",
      " [-0.97990263 -0.1899546  -1.32189249 -0.93789373]\n",
      " [-0.44094375 -0.28086589 -0.07506655 -0.18875003]\n",
      " [-0.23197153 -0.37290735  0.35138467 -1.18480087]]\n"
     ]
    }
   ],
   "source": [
    "samples = np.random.normal(size=(4,4))\n",
    "print(samples)"
   ]
  },
  {
   "cell_type": "code",
   "execution_count": 20,
   "metadata": {},
   "outputs": [],
   "source": [
    "import random\n",
    "position =0\n",
    "walk =[position]\n",
    "steps =1000\n",
    "for i in range(steps):\n",
    "    step = 1 if random.randint(0,1) else -1#步长随机加一减一（累计）\n",
    "    position +=step\n",
    "    walk.append(position)"
   ]
  },
  {
   "cell_type": "code",
   "execution_count": 26,
   "metadata": {},
   "outputs": [
    {
     "data": {
      "text/plain": [
       "77"
      ]
     },
     "execution_count": 26,
     "metadata": {},
     "output_type": "execute_result"
    }
   ],
   "source": [
    "nsteps =1000\n",
    "draws = np.random.randint(0,2,size=nsteps)\n",
    "steps = np.where(draws>0,1,-1)\n",
    "walk = steps.cumsum()\n",
    "walk.min()\n",
    "walk.max()"
   ]
  },
  {
   "cell_type": "code",
   "execution_count": 27,
   "metadata": {},
   "outputs": [
    {
     "data": {
      "text/plain": [
       "73"
      ]
     },
     "execution_count": 27,
     "metadata": {},
     "output_type": "execute_result"
    }
   ],
   "source": [
    "(np.abs(walk)>=10).argmax()"
   ]
  }
 ],
 "metadata": {
  "kernelspec": {
   "display_name": "Python 3",
   "language": "python",
   "name": "python3"
  },
  "language_info": {
   "codemirror_mode": {
    "name": "ipython",
    "version": 3
   },
   "file_extension": ".py",
   "mimetype": "text/x-python",
   "name": "python",
   "nbconvert_exporter": "python",
   "pygments_lexer": "ipython3",
   "version": "3.8.3"
  }
 },
 "nbformat": 4,
 "nbformat_minor": 4
}
